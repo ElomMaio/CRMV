import pandas as pd
import json

# Abrir e carregar o arquivo JSON
with open('processos.json', encoding='UTF-8') as f:
    data = json.load(f)

# Construir a estrutura tabular com iteração
data_tabular = []
for item in data:
    for animal in item['Tipo_de_animal']:
        for procedimento in item['Tipo_de_procedimento']:
            for artigo in item['Artigos_infringidos']:
                for documento in item['Documentos_elaborados']:
                    data_tabular.append({
                        'numero_processo': item['Numero_processo_etico'],
                        'denunciante': item['Denunciante'],
                        'motivacao_denuncia': item['Motivacao_da_denuncia'],
                        'categoria': item['Categoria'],
                        'falha_profissional': item['Falha_profissional'],
                        'procedencia': item['Procedencia'],
                        'procedencia_mantida': item['Procedencia_mantida'],
                        'tipo_animal': animal,
                        'tipo_procedimento': procedimento,
                        'artigo_infringido': artigo,
                        'documento_elaborado': documento
                    })

# Criar o DataFrame
df = pd.DataFrame(data_tabular)

# Contagem de processos
contagem = df['numero_processo'].value_counts()
print(contagem)
total_valores_unicos = contagem.size
print(total_valores_unicos)

# Filtrar processos improcedentes
dfp = df[df['procedencia'] != 'Improcedente']

# Imprimir informações dos processos não improcedentes
dfp
